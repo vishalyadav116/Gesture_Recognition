{
 "cells": [
  {
   "cell_type": "markdown",
   "metadata": {},
   "source": [
    "# Gesture Recognition\n",
    "In this group project, you are going to build a 3D Conv model that will be able to predict the 5 gestures correctly. Please import the following libraries to get started."
   ]
  },
  {
   "cell_type": "code",
   "execution_count": 57,
   "metadata": {},
   "outputs": [],
   "source": [
    "import numpy as np\n",
    "import os\n",
    "from scipy.misc import imread, imresize\n",
    "import datetime\n",
    "import os"
   ]
  },
  {
   "cell_type": "markdown",
   "metadata": {},
   "source": [
    "We set the random seed so that the results don't vary drastically."
   ]
  },
  {
   "cell_type": "code",
   "execution_count": 58,
   "metadata": {},
   "outputs": [],
   "source": [
    "np.random.seed(30)\n",
    "import random as rn\n",
    "rn.seed(30)\n",
    "import tensorflow as tf\n",
    "tf.random.set_seed(30)"
   ]
  },
  {
   "cell_type": "markdown",
   "metadata": {},
   "source": [
    "In this block, you read the folder names for training and validation. You also set the `batch_size` here. Note that you set the batch size in such a way that you are able to use the GPU in full capacity. You keep increasing the batch size until the machine throws an error."
   ]
  },
  {
   "cell_type": "code",
   "execution_count": 59,
   "metadata": {},
   "outputs": [],
   "source": [
    "train_doc = np.random.permutation(open('Project_data/train.csv').readlines())\n",
    "val_doc = np.random.permutation(open('Project_data/val.csv').readlines())\n",
    "batch_size = 64"
   ]
  },
  {
   "cell_type": "markdown",
   "metadata": {},
   "source": [
    "## Generator\n",
    "This is one of the most important part of the code. The overall structure of the generator has been given. In the generator, you are going to preprocess the images as you have images of 2 different dimensions as well as create a batch of video frames. You have to experiment with `img_idx`, `y`,`z` and normalization such that you get high accuracy."
   ]
  },
  {
   "cell_type": "code",
   "execution_count": 60,
   "metadata": {},
   "outputs": [],
   "source": [
    "def generator(source_path, folder_list, batch_size):\n",
    "    print( 'Source path = ', source_path, '; batch size =', batch_size)\n",
    "    img_idx = [5,7,9,11,13,15,17,20,21,22,23,24,25,26]\n",
    "    while True:\n",
    "        t = np.random.permutation(folder_list)\n",
    "        num_batches = len(t)//batch_size    # calculate the number of batches = Num_sequence/batch_size\n",
    "        for batch in range(num_batches): # we iterate over the number of batches\n",
    "            batch_data = np.zeros((batch_size,15,84,84,3)) # x is the number of images you use for each video, (y,z) is the final size of the input images and 3 is the number of channels RGB\n",
    "            batch_labels = np.zeros((batch_size,5)) # batch_labels is the one hot representation of the output\n",
    "            for folder in range(batch_size): # iterate over the batch_size\n",
    "                imgs = os.listdir(source_path+'/'+ t[folder + (batch*batch_size)].split(';')[0]) # read all the images in the folder\n",
    "                for idx,item in enumerate(img_idx): #  Iterate over the frames/images of a folder to read them in\n",
    "                    image = imread(source_path+'/'+ t[folder + (batch*batch_size)].strip().split(';')[0]+'/'+imgs[item]).astype(np.float32)\n",
    "                    image = imresize(image,[84,84])\n",
    "                    #crop the images and resize them. Note that the images are of 2 different shape \n",
    "                    #and the conv3D will throw error if the inputs in a batch have different shapes\n",
    "                    \n",
    "                    batch_data[folder,idx,:,:,0] = image[:,:,0]/255    #normalise and feed in the image\n",
    "                    batch_data[folder,idx,:,:,1] = image[:,:,1]/255    #normalise and feed in the image\n",
    "                    batch_data[folder,idx,:,:,2] = image[:,:,2]/255    #normalise and feed in the image\n",
    "                    \n",
    "                batch_labels[folder, int(t[folder + (batch*batch_size)].strip().split(';')[2])] = 1\n",
    "            yield batch_data, batch_labels #you yield the batch_data and the batch_labels, remember what does yield do\n",
    "\n",
    "        \n",
    "        # write the code for the remaining data points which are left after full batches\n",
    "        if len(t)%batch_size != 0:\n",
    "            batch_data = np.zeros((batch_size,15,84,84,3)) # x is the number of images you use for each video, (y,z) is the final size of the input images and 3 is the number of channels RGB\n",
    "            batch_labels = np.zeros((batch_size,5)) # batch_labels is the one hot representation of the output\n",
    "            for folder in range(batch_size): # iterate over the batch_size\n",
    "                imgs = os.listdir(source_path+'/'+ t[folder + (batch*batch_size)].split(';')[0]) # read all the images in the folder\n",
    "                for idx,item in enumerate(img_idx): #  Iterate over the frames/images of a folder to read them in\n",
    "                    image = imread(source_path+'/'+ t[folder + (batch*batch_size)].strip().split(';')[0]+'/'+imgs[item]).astype(np.float32)\n",
    "                    image = imresize(image,[84,84])\n",
    "                    #crop the images and resize them. Note that the images are of 2 different shape \n",
    "                    #and the conv3D will throw error if the inputs in a batch have different shapes\n",
    "                    \n",
    "                    batch_data[folder,idx,:,:,0] = image[:,:,0]/255    #normalise and feed in the image\n",
    "                    batch_data[folder,idx,:,:,1] = image[:,:,1]/255    #normalise and feed in the image\n",
    "                    batch_data[folder,idx,:,:,2] = image[:,:,2]/255    #normalise and feed in the image\n",
    "                    \n",
    "                batch_labels[folder, int(t[folder + (batch*batch_size)].strip().split(';')[2])] = 1\n",
    "            yield batch_data, batch_labels #you yield the batch_data and the batch_labels, remember what does yield do\n"
   ]
  },
  {
   "cell_type": "markdown",
   "metadata": {},
   "source": [
    "Note here that a video is represented above in the generator as (number of images, height, width, number of channels). Take this into consideration while creating the model architecture."
   ]
  },
  {
   "cell_type": "code",
   "execution_count": 61,
   "metadata": {},
   "outputs": [
    {
     "name": "stdout",
     "output_type": "stream",
     "text": [
      "# training sequences = 663\n",
      "# validation sequences = 100\n",
      "# epochs = 20\n"
     ]
    }
   ],
   "source": [
    "curr_dt_time = datetime.datetime.now()\n",
    "train_path = 'Project_data/train'\n",
    "val_path = 'Project_data/val'\n",
    "num_train_sequences = len(train_doc)\n",
    "print('# training sequences =', num_train_sequences)\n",
    "num_val_sequences = len(val_doc)\n",
    "print('# validation sequences =', num_val_sequences)\n",
    "num_epochs = 20\n",
    "print ('# epochs =', num_epochs)"
   ]
  },
  {
   "cell_type": "markdown",
   "metadata": {},
   "source": [
    "## Model\n",
    "Here you make the model using different functionalities that Keras provides. Remember to use `Conv3D` and `MaxPooling3D` and not `Conv2D` and `Maxpooling2D` for a 3D convolution model. You would want to use `TimeDistributed` while building a Conv2D + RNN model. Also remember that the last layer is the softmax. Design the network in such a way that the model is able to give good accuracy on the least number of parameters so that it can fit in the memory of the webcam."
   ]
  },
  {
   "cell_type": "code",
   "execution_count": 62,
   "metadata": {},
   "outputs": [],
   "source": [
    "from keras.models import Sequential, Model\n",
    "from keras.layers import Dense, GRU, Flatten, TimeDistributed, BatchNormalization, Activation, Dropout\n",
    "from keras.layers.convolutional import Conv3D, MaxPooling3D\n",
    "from keras.callbacks import ModelCheckpoint, ReduceLROnPlateau\n",
    "from keras import optimizers\n",
    "\n",
    "#write your model here\n",
    "model = Sequential()\n",
    "model.add(Conv3D(64, (3,3,3), strides=(1,1,1), padding='same', input_shape=(15,84,84,3)))\n",
    "model.add(Activation('elu'))\n",
    "model.add(BatchNormalization())\n",
    "model.add(MaxPooling3D(pool_size=(2,2,1), strides=(2,2,1)))\n",
    "\n",
    "model.add(Conv3D(64, (3,3,3), strides=(1,1,1), padding='same'))\n",
    "model.add(Activation('elu'))\n",
    "model.add(BatchNormalization())\n",
    "model.add(MaxPooling3D(pool_size=(2,2,1), strides=(2,2,1)))\n",
    "model.add(Dropout(0.25))\n",
    "\n",
    "model.add(Flatten())\n",
    "model.add(Dense(256, activation='elu'))\n",
    "model.add(Dropout(0.25))\n",
    "\n",
    "model.add(Dense(5, activation='softmax'))"
   ]
  },
  {
   "cell_type": "markdown",
   "metadata": {},
   "source": [
    "Now that you have written the model, the next step is to `compile` the model. When you print the `summary` of the model, you'll see the total number of parameters you have to train."
   ]
  },
  {
   "cell_type": "code",
   "execution_count": 63,
   "metadata": {
    "scrolled": true
   },
   "outputs": [
    {
     "name": "stdout",
     "output_type": "stream",
     "text": [
      "Model: \"sequential_9\"\n",
      "_________________________________________________________________\n",
      "Layer (type)                 Output Shape              Param #   \n",
      "=================================================================\n",
      "conv3d_4 (Conv3D)            (None, 15, 84, 84, 64)    5248      \n",
      "_________________________________________________________________\n",
      "activation_4 (Activation)    (None, 15, 84, 84, 64)    0         \n",
      "_________________________________________________________________\n",
      "batch_normalization_4 (Batch (None, 15, 84, 84, 64)    256       \n",
      "_________________________________________________________________\n",
      "max_pooling3d_4 (MaxPooling3 (None, 7, 42, 84, 64)     0         \n",
      "_________________________________________________________________\n",
      "conv3d_5 (Conv3D)            (None, 7, 42, 84, 64)     110656    \n",
      "_________________________________________________________________\n",
      "activation_5 (Activation)    (None, 7, 42, 84, 64)     0         \n",
      "_________________________________________________________________\n",
      "batch_normalization_5 (Batch (None, 7, 42, 84, 64)     256       \n",
      "_________________________________________________________________\n",
      "max_pooling3d_5 (MaxPooling3 (None, 3, 21, 84, 64)     0         \n",
      "_________________________________________________________________\n",
      "dropout_16 (Dropout)         (None, 3, 21, 84, 64)     0         \n",
      "_________________________________________________________________\n",
      "flatten_12 (Flatten)         (None, 338688)            0         \n",
      "_________________________________________________________________\n",
      "dense_23 (Dense)             (None, 256)               86704384  \n",
      "_________________________________________________________________\n",
      "dropout_17 (Dropout)         (None, 256)               0         \n",
      "_________________________________________________________________\n",
      "dense_24 (Dense)             (None, 5)                 1285      \n",
      "=================================================================\n",
      "Total params: 86,822,085\n",
      "Trainable params: 86,821,829\n",
      "Non-trainable params: 256\n",
      "_________________________________________________________________\n",
      "None\n"
     ]
    }
   ],
   "source": [
    "optimiser = 'adam'\n",
    "model.compile(optimizer=optimiser, loss='categorical_crossentropy', metrics=['categorical_accuracy'])\n",
    "print (model.summary())"
   ]
  },
  {
   "cell_type": "markdown",
   "metadata": {},
   "source": [
    "Let us create the `train_generator` and the `val_generator` which will be used in `.fit_generator`."
   ]
  },
  {
   "cell_type": "code",
   "execution_count": 64,
   "metadata": {},
   "outputs": [],
   "source": [
    "train_generator = generator(train_path, train_doc, batch_size)\n",
    "val_generator = generator(val_path, val_doc, batch_size)"
   ]
  },
  {
   "cell_type": "code",
   "execution_count": 65,
   "metadata": {},
   "outputs": [],
   "source": [
    "model_name = 'model_init' + '_' + str(curr_dt_time).replace(' ','').replace(':','_') + '/'\n",
    "    \n",
    "if not os.path.exists(model_name):\n",
    "    os.mkdir(model_name)\n",
    "        \n",
    "filepath = model_name + 'model-{epoch:05d}-{loss:.5f}-{categorical_accuracy:.5f}-{val_loss:.5f}-{val_categorical_accuracy:.5f}.h5'\n",
    "\n",
    "checkpoint = ModelCheckpoint(filepath, monitor='val_loss', verbose=1, save_best_only=False, save_weights_only=False, mode='auto')\n",
    "\n",
    "LR = ReduceLROnPlateau(factor=0.5, patience=2, mode='min', min_lr=0.0001) # write the REducelronplateau code here\n",
    "callbacks_list = [checkpoint, LR]"
   ]
  },
  {
   "cell_type": "markdown",
   "metadata": {},
   "source": [
    "The `steps_per_epoch` and `validation_steps` are used by `fit_generator` to decide the number of next() calls it need to make."
   ]
  },
  {
   "cell_type": "code",
   "execution_count": 66,
   "metadata": {},
   "outputs": [],
   "source": [
    "if (num_train_sequences%batch_size) == 0:\n",
    "    steps_per_epoch = int(num_train_sequences/batch_size)\n",
    "else:\n",
    "    steps_per_epoch = (num_train_sequences//batch_size) + 1\n",
    "\n",
    "if (num_val_sequences%batch_size) == 0:\n",
    "    validation_steps = int(num_val_sequences/batch_size)\n",
    "else:\n",
    "    validation_steps = (num_val_sequences//batch_size) + 1"
   ]
  },
  {
   "cell_type": "markdown",
   "metadata": {},
   "source": [
    "Let us now fit the model. This will start training the model and with the help of the checkpoints, you'll be able to save the model at the end of each epoch."
   ]
  },
  {
   "cell_type": "code",
   "execution_count": 25,
   "metadata": {
    "scrolled": true
   },
   "outputs": [
    {
     "name": "stdout",
     "output_type": "stream",
     "text": [
      "Source path =  Project_data/train ; batch size = 64\n"
     ]
    },
    {
     "name": "stderr",
     "output_type": "stream",
     "text": [
      "/mnt/disks/user/anaconda3/lib/python3.7/site-packages/ipykernel_launcher.py:13: DeprecationWarning: `imread` is deprecated!\n",
      "`imread` is deprecated in SciPy 1.0.0, and will be removed in 1.2.0.\n",
      "Use ``imageio.imread`` instead.\n",
      "  del sys.path[0]\n",
      "/mnt/disks/user/anaconda3/lib/python3.7/site-packages/ipykernel_launcher.py:14: DeprecationWarning: `imresize` is deprecated!\n",
      "`imresize` is deprecated in SciPy 1.0.0, and will be removed in 1.3.0.\n",
      "Use Pillow instead: ``numpy.array(Image.fromarray(arr).resize())``.\n",
      "  \n"
     ]
    },
    {
     "name": "stdout",
     "output_type": "stream",
     "text": [
      "Epoch 1/20\n",
      " 9/11 [=======================>......] - ETA: 16s - loss: 162.5131 - categorical_accuracy: 0.2951"
     ]
    },
    {
     "name": "stderr",
     "output_type": "stream",
     "text": [
      "/mnt/disks/user/anaconda3/lib/python3.7/site-packages/ipykernel_launcher.py:33: DeprecationWarning: `imread` is deprecated!\n",
      "`imread` is deprecated in SciPy 1.0.0, and will be removed in 1.2.0.\n",
      "Use ``imageio.imread`` instead.\n",
      "/mnt/disks/user/anaconda3/lib/python3.7/site-packages/ipykernel_launcher.py:34: DeprecationWarning: `imresize` is deprecated!\n",
      "`imresize` is deprecated in SciPy 1.0.0, and will be removed in 1.3.0.\n",
      "Use Pillow instead: ``numpy.array(Image.fromarray(arr).resize())``.\n"
     ]
    },
    {
     "name": "stdout",
     "output_type": "stream",
     "text": [
      "11/11 [==============================] - ETA: 0s - loss: 139.2707 - categorical_accuracy: 0.3111Source path =  Project_data/val ; batch size = 64\n",
      "\n",
      "Epoch 00001: saving model to model_init_2021-06-1411_34_16.361374/model-00001-139.27071-0.31108-159.52618-0.20312.h5\n",
      "11/11 [==============================] - 107s 10s/step - loss: 139.2707 - categorical_accuracy: 0.3111 - val_loss: 159.5262 - val_categorical_accuracy: 0.2031 - lr: 0.0010\n",
      "Epoch 2/20\n",
      "11/11 [==============================] - ETA: 0s - loss: 15.0731 - categorical_accuracy: 0.3707\n",
      "Epoch 00002: saving model to model_init_2021-06-1411_34_16.361374/model-00002-15.07306-0.37074-64.97165-0.21875.h5\n",
      "11/11 [==============================] - 46s 4s/step - loss: 15.0731 - categorical_accuracy: 0.3707 - val_loss: 64.9716 - val_categorical_accuracy: 0.2188 - lr: 0.0010\n",
      "Epoch 3/20\n",
      "11/11 [==============================] - ETA: 0s - loss: 5.3735 - categorical_accuracy: 0.3793\n",
      "Epoch 00003: saving model to model_init_2021-06-1411_34_16.361374/model-00003-5.37352-0.37926-34.22717-0.20312.h5\n",
      "11/11 [==============================] - 41s 4s/step - loss: 5.3735 - categorical_accuracy: 0.3793 - val_loss: 34.2272 - val_categorical_accuracy: 0.2031 - lr: 0.0010\n",
      "Epoch 4/20\n",
      "11/11 [==============================] - ETA: 0s - loss: 3.0373 - categorical_accuracy: 0.3878\n",
      "Epoch 00004: saving model to model_init_2021-06-1411_34_16.361374/model-00004-3.03727-0.38778-27.64845-0.29688.h5\n",
      "11/11 [==============================] - 40s 4s/step - loss: 3.0373 - categorical_accuracy: 0.3878 - val_loss: 27.6484 - val_categorical_accuracy: 0.2969 - lr: 0.0010\n",
      "Epoch 5/20\n",
      "11/11 [==============================] - ETA: 0s - loss: 2.3098 - categorical_accuracy: 0.4077\n",
      "Epoch 00005: saving model to model_init_2021-06-1411_34_16.361374/model-00005-2.30975-0.40767-63.23151-0.29688.h5\n",
      "11/11 [==============================] - 41s 4s/step - loss: 2.3098 - categorical_accuracy: 0.4077 - val_loss: 63.2315 - val_categorical_accuracy: 0.2969 - lr: 0.0010\n",
      "Epoch 6/20\n",
      "11/11 [==============================] - ETA: 0s - loss: 1.6284 - categorical_accuracy: 0.4020\n",
      "Epoch 00006: saving model to model_init_2021-06-1411_34_16.361374/model-00006-1.62837-0.40199-79.34161-0.32031.h5\n",
      "11/11 [==============================] - 41s 4s/step - loss: 1.6284 - categorical_accuracy: 0.4020 - val_loss: 79.3416 - val_categorical_accuracy: 0.3203 - lr: 0.0010\n",
      "Epoch 7/20\n",
      "11/11 [==============================] - ETA: 0s - loss: 1.6875 - categorical_accuracy: 0.4006\n",
      "Epoch 00007: saving model to model_init_2021-06-1411_34_16.361374/model-00007-1.68750-0.40057-90.00913-0.29688.h5\n",
      "11/11 [==============================] - 40s 4s/step - loss: 1.6875 - categorical_accuracy: 0.4006 - val_loss: 90.0091 - val_categorical_accuracy: 0.2969 - lr: 5.0000e-04\n",
      "Epoch 8/20\n",
      "11/11 [==============================] - ETA: 0s - loss: 1.3804 - categorical_accuracy: 0.4446\n",
      "Epoch 00008: saving model to model_init_2021-06-1411_34_16.361374/model-00008-1.38037-0.44460-115.76273-0.31250.h5\n",
      "11/11 [==============================] - 40s 4s/step - loss: 1.3804 - categorical_accuracy: 0.4446 - val_loss: 115.7627 - val_categorical_accuracy: 0.3125 - lr: 5.0000e-04\n",
      "Epoch 9/20\n",
      "11/11 [==============================] - ETA: 0s - loss: 1.8477 - categorical_accuracy: 0.4744\n",
      "Epoch 00009: saving model to model_init_2021-06-1411_34_16.361374/model-00009-1.84773-0.47443-129.36473-0.28125.h5\n",
      "11/11 [==============================] - 41s 4s/step - loss: 1.8477 - categorical_accuracy: 0.4744 - val_loss: 129.3647 - val_categorical_accuracy: 0.2812 - lr: 2.5000e-04\n",
      "Epoch 10/20\n",
      "11/11 [==============================] - ETA: 0s - loss: 1.2550 - categorical_accuracy: 0.4986\n",
      "Epoch 00010: saving model to model_init_2021-06-1411_34_16.361374/model-00010-1.25499-0.49858-135.63382-0.32031.h5\n",
      "11/11 [==============================] - 41s 4s/step - loss: 1.2550 - categorical_accuracy: 0.4986 - val_loss: 135.6338 - val_categorical_accuracy: 0.3203 - lr: 2.5000e-04\n",
      "Epoch 11/20\n",
      "11/11 [==============================] - ETA: 0s - loss: 1.3013 - categorical_accuracy: 0.4503\n",
      "Epoch 00011: saving model to model_init_2021-06-1411_34_16.361374/model-00011-1.30130-0.45028-145.53462-0.34375.h5\n",
      "11/11 [==============================] - 41s 4s/step - loss: 1.3013 - categorical_accuracy: 0.4503 - val_loss: 145.5346 - val_categorical_accuracy: 0.3438 - lr: 1.2500e-04\n",
      "Epoch 12/20\n",
      "11/11 [==============================] - ETA: 0s - loss: 1.2281 - categorical_accuracy: 0.4886\n",
      "Epoch 00012: saving model to model_init_2021-06-1411_34_16.361374/model-00012-1.22809-0.48864-165.52139-0.31250.h5\n",
      "11/11 [==============================] - 40s 4s/step - loss: 1.2281 - categorical_accuracy: 0.4886 - val_loss: 165.5214 - val_categorical_accuracy: 0.3125 - lr: 1.2500e-04\n",
      "Epoch 13/20\n",
      "11/11 [==============================] - ETA: 0s - loss: 1.1869 - categorical_accuracy: 0.4759\n",
      "Epoch 00013: saving model to model_init_2021-06-1411_34_16.361374/model-00013-1.18690-0.47585-134.78468-0.35938.h5\n",
      "11/11 [==============================] - 42s 4s/step - loss: 1.1869 - categorical_accuracy: 0.4759 - val_loss: 134.7847 - val_categorical_accuracy: 0.3594 - lr: 1.0000e-04\n",
      "Epoch 14/20\n",
      "11/11 [==============================] - ETA: 0s - loss: 1.1858 - categorical_accuracy: 0.4844\n",
      "Epoch 00014: saving model to model_init_2021-06-1411_34_16.361374/model-00014-1.18581-0.48438-131.66704-0.31250.h5\n",
      "11/11 [==============================] - 41s 4s/step - loss: 1.1858 - categorical_accuracy: 0.4844 - val_loss: 131.6670 - val_categorical_accuracy: 0.3125 - lr: 1.0000e-04\n",
      "Epoch 15/20\n",
      "11/11 [==============================] - ETA: 0s - loss: 1.3314 - categorical_accuracy: 0.4744\n",
      "Epoch 00015: saving model to model_init_2021-06-1411_34_16.361374/model-00015-1.33143-0.47443-154.00189-0.28125.h5\n",
      "11/11 [==============================] - 41s 4s/step - loss: 1.3314 - categorical_accuracy: 0.4744 - val_loss: 154.0019 - val_categorical_accuracy: 0.2812 - lr: 1.0000e-04\n",
      "Epoch 16/20\n",
      "11/11 [==============================] - ETA: 0s - loss: 1.2347 - categorical_accuracy: 0.4815\n",
      "Epoch 00016: saving model to model_init_2021-06-1411_34_16.361374/model-00016-1.23467-0.48153-147.77209-0.26562.h5\n",
      "11/11 [==============================] - 41s 4s/step - loss: 1.2347 - categorical_accuracy: 0.4815 - val_loss: 147.7721 - val_categorical_accuracy: 0.2656 - lr: 1.0000e-04\n",
      "Epoch 17/20\n",
      "11/11 [==============================] - ETA: 0s - loss: 1.0993 - categorical_accuracy: 0.5099\n",
      "Epoch 00017: saving model to model_init_2021-06-1411_34_16.361374/model-00017-1.09927-0.50994-154.06099-0.32812.h5\n",
      "11/11 [==============================] - 41s 4s/step - loss: 1.0993 - categorical_accuracy: 0.5099 - val_loss: 154.0610 - val_categorical_accuracy: 0.3281 - lr: 1.0000e-04\n",
      "Epoch 18/20\n",
      "11/11 [==============================] - ETA: 0s - loss: 1.1137 - categorical_accuracy: 0.4986\n",
      "Epoch 00018: saving model to model_init_2021-06-1411_34_16.361374/model-00018-1.11368-0.49858-125.59924-0.31250.h5\n",
      "11/11 [==============================] - 41s 4s/step - loss: 1.1137 - categorical_accuracy: 0.4986 - val_loss: 125.5992 - val_categorical_accuracy: 0.3125 - lr: 1.0000e-04\n",
      "Epoch 19/20\n",
      "11/11 [==============================] - ETA: 0s - loss: 1.1372 - categorical_accuracy: 0.4915\n",
      "Epoch 00019: saving model to model_init_2021-06-1411_34_16.361374/model-00019-1.13724-0.49148-124.12048-0.32812.h5\n",
      "11/11 [==============================] - 40s 4s/step - loss: 1.1372 - categorical_accuracy: 0.4915 - val_loss: 124.1205 - val_categorical_accuracy: 0.3281 - lr: 1.0000e-04\n",
      "Epoch 20/20\n",
      "11/11 [==============================] - ETA: 0s - loss: 1.1632 - categorical_accuracy: 0.5028\n",
      "Epoch 00020: saving model to model_init_2021-06-1411_34_16.361374/model-00020-1.16318-0.50284-99.28865-0.34375.h5\n",
      "11/11 [==============================] - 41s 4s/step - loss: 1.1632 - categorical_accuracy: 0.5028 - val_loss: 99.2887 - val_categorical_accuracy: 0.3438 - lr: 1.0000e-04\n"
     ]
    },
    {
     "data": {
      "text/plain": [
       "<tensorflow.python.keras.callbacks.History at 0x7f501c05e198>"
      ]
     },
     "execution_count": 25,
     "metadata": {},
     "output_type": "execute_result"
    }
   ],
   "source": [
    "model.fit(train_generator, steps_per_epoch=steps_per_epoch, epochs=num_epochs, verbose=1, \n",
    "                    callbacks=callbacks_list, validation_data=val_generator, \n",
    "                    validation_steps=validation_steps, class_weight=None, workers=1, initial_epoch=0)"
   ]
  },
  {
   "cell_type": "markdown",
   "metadata": {},
   "source": [
    "#### The best Accuracy turns out to be 50.99% by using Conv3D model."
   ]
  },
  {
   "cell_type": "code",
   "execution_count": null,
   "metadata": {},
   "outputs": [],
   "source": []
  },
  {
   "cell_type": "code",
   "execution_count": null,
   "metadata": {},
   "outputs": [],
   "source": []
  },
  {
   "cell_type": "markdown",
   "metadata": {},
   "source": [
    "## CNN + LSTM"
   ]
  },
  {
   "cell_type": "markdown",
   "metadata": {},
   "source": [
    "## Generator\n",
    "This is one of the most important part of the code. The overall structure of the generator has been given. In the generator, you are going to preprocess the images as you have images of 2 different dimensions as well as create a batch of video frames. You have to experiment with `img_idx`, `y`,`z` and normalization such that you get high accuracy."
   ]
  },
  {
   "cell_type": "code",
   "execution_count": 67,
   "metadata": {},
   "outputs": [],
   "source": [
    "def generator(source_path, folder_list, batch_size):\n",
    "    print( 'Source path = ', source_path, '; batch size =', batch_size)\n",
    "    img_idx = [5,8,11,14,17,20,22,24,26,28]\n",
    "    while True:\n",
    "        t = np.random.permutation(folder_list)\n",
    "        num_batches = len(t)//batch_size    # calculate the number of batches = Num_sequence/batch_size\n",
    "        for batch in range(num_batches): # we iterate over the number of batches\n",
    "            batch_data = np.zeros((batch_size,11,84,84,3)) # x is the number of images you use for each video, (y,z) is the final size of the input images and 3 is the number of channels RGB\n",
    "            batch_labels = np.zeros((batch_size,5)) # batch_labels is the one hot representation of the output\n",
    "            for folder in range(batch_size): # iterate over the batch_size\n",
    "                imgs = os.listdir(source_path+'/'+ t[folder + (batch*batch_size)].split(';')[0]) # read all the images in the folder\n",
    "                for idx,item in enumerate(img_idx): #  Iterate over the frames/images of a folder to read them in\n",
    "                    image = imread(source_path+'/'+ t[folder + (batch*batch_size)].strip().split(';')[0]+'/'+imgs[item]).astype(np.float32)\n",
    "                    image = imresize(image,[84,84])\n",
    "                    #crop the images and resize them. Note that the images are of 2 different shape \n",
    "                    #and the conv3D will throw error if the inputs in a batch have different shapes\n",
    "                    \n",
    "                    batch_data[folder,idx,:,:,0] = image[:,:,0]/255    #normalise and feed in the image\n",
    "                    batch_data[folder,idx,:,:,1] = image[:,:,1]/255    #normalise and feed in the image\n",
    "                    batch_data[folder,idx,:,:,2] = image[:,:,2]/255    #normalise and feed in the image\n",
    "                    \n",
    "                batch_labels[folder, int(t[folder + (batch*batch_size)].strip().split(';')[2])] = 1\n",
    "            yield batch_data, batch_labels #you yield the batch_data and the batch_labels, remember what does yield do\n",
    "\n",
    "        \n",
    "        # write the code for the remaining data points which are left after full batches\n",
    "        if len(t)%batch_size != 0:\n",
    "            batch_data = np.zeros((batch_size,11,84,84,3)) # x is the number of images you use for each video, (y,z) is the final size of the input images and 3 is the number of channels RGB\n",
    "            batch_labels = np.zeros((batch_size,5)) # batch_labels is the one hot representation of the output\n",
    "            for folder in range(batch_size): # iterate over the batch_size\n",
    "                imgs = os.listdir(source_path+'/'+ t[folder + (batch*batch_size)].split(';')[0]) # read all the images in the folder\n",
    "                for idx,item in enumerate(img_idx): #  Iterate over the frames/images of a folder to read them in\n",
    "                    image = imread(source_path+'/'+ t[folder + (batch*batch_size)].strip().split(';')[0]+'/'+imgs[item]).astype(np.float32)\n",
    "                    image = imresize(image,[84,84])\n",
    "                    #crop the images and resize them. Note that the images are of 2 different shape \n",
    "                    #and the conv3D will throw error if the inputs in a batch have different shapes\n",
    "                    \n",
    "                    batch_data[folder,idx,:,:,0] = image[:,:,0]/255    #normalise and feed in the image\n",
    "                    batch_data[folder,idx,:,:,1] = image[:,:,1]/255    #normalise and feed in the image\n",
    "                    batch_data[folder,idx,:,:,2] = image[:,:,2]/255    #normalise and feed in the image\n",
    "                    \n",
    "                batch_labels[folder, int(t[folder + (batch*batch_size)].strip().split(';')[2])] = 1\n",
    "            yield batch_data, batch_labels #you yield the batch_data and the batch_labels, remember what does yield do\n"
   ]
  },
  {
   "cell_type": "markdown",
   "metadata": {},
   "source": [
    "Note here that a video is represented above in the generator as (number of images, height, width, number of channels). Take this into consideration while creating the model architecture."
   ]
  },
  {
   "cell_type": "code",
   "execution_count": 68,
   "metadata": {},
   "outputs": [
    {
     "name": "stdout",
     "output_type": "stream",
     "text": [
      "# training sequences = 663\n",
      "# validation sequences = 100\n",
      "# epochs = 30\n"
     ]
    }
   ],
   "source": [
    "curr_dt_time = datetime.datetime.now()\n",
    "train_path = 'Project_data/train'\n",
    "val_path = 'Project_data/val'\n",
    "num_train_sequences = len(train_doc)\n",
    "print('# training sequences =', num_train_sequences)\n",
    "num_val_sequences = len(val_doc)\n",
    "print('# validation sequences =', num_val_sequences)\n",
    "num_epochs = 30\n",
    "print ('# epochs =', num_epochs)"
   ]
  },
  {
   "cell_type": "markdown",
   "metadata": {},
   "source": [
    "## Model\n",
    "Here you make the model using different functionalities that Keras provides. Remember to use `Conv3D` and `MaxPooling3D` and not `Conv2D` and `Maxpooling2D` for a 3D convolution model. You would want to use `TimeDistributed` while building a Conv2D + RNN model. Also remember that the last layer is the softmax. Design the network in such a way that the model is able to give good accuracy on the least number of parameters so that it can fit in the memory of the webcam."
   ]
  },
  {
   "cell_type": "code",
   "execution_count": 79,
   "metadata": {},
   "outputs": [],
   "source": [
    "from keras.models import Sequential, Model\n",
    "from keras.layers import Dense, GRU, Flatten, TimeDistributed, Dropout\n",
    "from keras.layers.convolutional import Conv3D, MaxPooling3D\n",
    "from keras.callbacks import ModelCheckpoint, ReduceLROnPlateau\n",
    "from keras import optimizers\n",
    "from keras.applications.vgg16 import VGG16\n",
    "from keras.layers.recurrent import LSTM\n",
    "\n",
    "#write your model here\n",
    "\n",
    "transfer_model = VGG16(include_top=False, weights='imagenet', input_shape=(84,84,3))\n",
    "x = transfer_model.output\n",
    "x = Flatten()(x)\n",
    "# x.add(Dropout(0.5))\n",
    "model_features = Dense(64, activation='relu')(x)\n",
    "cnn_model = Model(inputs= transfer_model.input, outputs = model_features)\n",
    "\n",
    "for layer in transfer_model.layers:\n",
    "    layer.trainable = False\n",
    "    \n",
    "model_2 = Sequential()\n",
    "model_2.add(TimeDistributed(cnn_model, input_shape=(11,84,84,3)))\n",
    "model_2.add(LSTM(512))\n",
    "model_2.add(Dropout(0.5))\n",
    "model_2.add(Dense(8, activation='relu'))\n",
    "model_2.add(Dropout(0.5))\n",
    "model_2.add(Dense(5, activation='softmax'))"
   ]
  },
  {
   "cell_type": "markdown",
   "metadata": {},
   "source": [
    "Now that you have written the model, the next step is to `compile` the model. When you print the `summary` of the model, you'll see the total number of parameters you have to train."
   ]
  },
  {
   "cell_type": "code",
   "execution_count": 80,
   "metadata": {
    "scrolled": true
   },
   "outputs": [
    {
     "name": "stdout",
     "output_type": "stream",
     "text": [
      "Model: \"sequential_13\"\n",
      "_________________________________________________________________\n",
      "Layer (type)                 Output Shape              Param #   \n",
      "=================================================================\n",
      "time_distributed_10 (TimeDis (None, 11, 64)            14845824  \n",
      "_________________________________________________________________\n",
      "lstm_5 (LSTM)                (None, 512)               1181696   \n",
      "_________________________________________________________________\n",
      "dropout_24 (Dropout)         (None, 512)               0         \n",
      "_________________________________________________________________\n",
      "dense_35 (Dense)             (None, 8)                 4104      \n",
      "_________________________________________________________________\n",
      "dropout_25 (Dropout)         (None, 8)                 0         \n",
      "_________________________________________________________________\n",
      "dense_36 (Dense)             (None, 5)                 45        \n",
      "=================================================================\n",
      "Total params: 16,031,669\n",
      "Trainable params: 1,316,981\n",
      "Non-trainable params: 14,714,688\n",
      "_________________________________________________________________\n",
      "None\n"
     ]
    }
   ],
   "source": [
    "optimiser = 'adam'\n",
    "model_2.compile(optimizer=optimiser, loss='categorical_crossentropy', metrics=['categorical_accuracy'])\n",
    "print (model_2.summary())"
   ]
  },
  {
   "cell_type": "markdown",
   "metadata": {},
   "source": [
    "Let us create the `train_generator` and the `val_generator` which will be used in `.fit_generator`."
   ]
  },
  {
   "cell_type": "code",
   "execution_count": 71,
   "metadata": {},
   "outputs": [],
   "source": [
    "train_generator = generator(train_path, train_doc, batch_size)\n",
    "val_generator = generator(val_path, val_doc, batch_size)"
   ]
  },
  {
   "cell_type": "code",
   "execution_count": 72,
   "metadata": {},
   "outputs": [],
   "source": [
    "model_name = 'model_init' + '_' + str(curr_dt_time).replace(' ','').replace(':','_') + '/'\n",
    "    \n",
    "if not os.path.exists(model_name):\n",
    "    os.mkdir(model_name)\n",
    "        \n",
    "filepath = model_name + 'model-{epoch:05d}-{loss:.5f}-{categorical_accuracy:.5f}-{val_loss:.5f}-{val_categorical_accuracy:.5f}.h5'\n",
    "\n",
    "checkpoint = ModelCheckpoint(filepath, monitor='val_loss', verbose=1, save_best_only=False, save_weights_only=False, mode='auto')\n",
    "\n",
    "LR = ReduceLROnPlateau(factor=0.5, patience=2, mode='min', min_lr=0.0001) # write the REducelronplateau code here\n",
    "callbacks_list = [checkpoint, LR]"
   ]
  },
  {
   "cell_type": "markdown",
   "metadata": {},
   "source": [
    "The `steps_per_epoch` and `validation_steps` are used by `fit_generator` to decide the number of next() calls it need to make."
   ]
  },
  {
   "cell_type": "code",
   "execution_count": 73,
   "metadata": {},
   "outputs": [],
   "source": [
    "if (num_train_sequences%batch_size) == 0:\n",
    "    steps_per_epoch = int(num_train_sequences/batch_size)\n",
    "else:\n",
    "    steps_per_epoch = (num_train_sequences//batch_size) + 1\n",
    "\n",
    "if (num_val_sequences%batch_size) == 0:\n",
    "    validation_steps = int(num_val_sequences/batch_size)\n",
    "else:\n",
    "    validation_steps = (num_val_sequences//batch_size) + 1"
   ]
  },
  {
   "cell_type": "markdown",
   "metadata": {},
   "source": [
    "Let us now fit the model. This will start training the model and with the help of the checkpoints, you'll be able to save the model at the end of each epoch."
   ]
  },
  {
   "cell_type": "code",
   "execution_count": 74,
   "metadata": {
    "scrolled": true
   },
   "outputs": [
    {
     "name": "stdout",
     "output_type": "stream",
     "text": [
      "Source path =  Project_data/train ; batch size = 64\n"
     ]
    },
    {
     "name": "stderr",
     "output_type": "stream",
     "text": [
      "/mnt/disks/user/anaconda3/lib/python3.7/site-packages/ipykernel_launcher.py:13: DeprecationWarning: `imread` is deprecated!\n",
      "`imread` is deprecated in SciPy 1.0.0, and will be removed in 1.2.0.\n",
      "Use ``imageio.imread`` instead.\n",
      "  del sys.path[0]\n",
      "/mnt/disks/user/anaconda3/lib/python3.7/site-packages/ipykernel_launcher.py:14: DeprecationWarning: `imresize` is deprecated!\n",
      "`imresize` is deprecated in SciPy 1.0.0, and will be removed in 1.3.0.\n",
      "Use Pillow instead: ``numpy.array(Image.fromarray(arr).resize())``.\n",
      "  \n"
     ]
    },
    {
     "name": "stdout",
     "output_type": "stream",
     "text": [
      "Epoch 1/30\n",
      " 9/11 [=======================>......] - ETA: 3s - loss: 1.6576 - categorical_accuracy: 0.2257"
     ]
    },
    {
     "name": "stderr",
     "output_type": "stream",
     "text": [
      "/mnt/disks/user/anaconda3/lib/python3.7/site-packages/ipykernel_launcher.py:33: DeprecationWarning: `imread` is deprecated!\n",
      "`imread` is deprecated in SciPy 1.0.0, and will be removed in 1.2.0.\n",
      "Use ``imageio.imread`` instead.\n",
      "/mnt/disks/user/anaconda3/lib/python3.7/site-packages/ipykernel_launcher.py:34: DeprecationWarning: `imresize` is deprecated!\n",
      "`imresize` is deprecated in SciPy 1.0.0, and will be removed in 1.3.0.\n",
      "Use Pillow instead: ``numpy.array(Image.fromarray(arr).resize())``.\n"
     ]
    },
    {
     "name": "stdout",
     "output_type": "stream",
     "text": [
      "11/11 [==============================] - ETA: 0s - loss: 1.6491 - categorical_accuracy: 0.2259Source path =  Project_data/val ; batch size = 64\n",
      "\n",
      "Epoch 00001: saving model to model_init_2021-06-1413_31_51.003183/model-00001-1.64910-0.22585-1.60048-0.29688.h5\n",
      "11/11 [==============================] - 28s 3s/step - loss: 1.6491 - categorical_accuracy: 0.2259 - val_loss: 1.6005 - val_categorical_accuracy: 0.2969 - lr: 0.0010\n",
      "Epoch 2/30\n",
      "11/11 [==============================] - ETA: 0s - loss: 1.6057 - categorical_accuracy: 0.2145\n",
      "Epoch 00002: saving model to model_init_2021-06-1413_31_51.003183/model-00002-1.60573-0.21449-1.58792-0.28906.h5\n",
      "11/11 [==============================] - 28s 3s/step - loss: 1.6057 - categorical_accuracy: 0.2145 - val_loss: 1.5879 - val_categorical_accuracy: 0.2891 - lr: 0.0010\n",
      "Epoch 3/30\n",
      "11/11 [==============================] - ETA: 0s - loss: 1.5724 - categorical_accuracy: 0.2500\n",
      "Epoch 00003: saving model to model_init_2021-06-1413_31_51.003183/model-00003-1.57244-0.25000-1.50166-0.31250.h5\n",
      "11/11 [==============================] - 28s 3s/step - loss: 1.5724 - categorical_accuracy: 0.2500 - val_loss: 1.5017 - val_categorical_accuracy: 0.3125 - lr: 0.0010\n",
      "Epoch 4/30\n",
      "11/11 [==============================] - ETA: 0s - loss: 1.5296 - categorical_accuracy: 0.2940\n",
      "Epoch 00004: saving model to model_init_2021-06-1413_31_51.003183/model-00004-1.52955-0.29403-1.47150-0.35156.h5\n",
      "11/11 [==============================] - 28s 3s/step - loss: 1.5296 - categorical_accuracy: 0.2940 - val_loss: 1.4715 - val_categorical_accuracy: 0.3516 - lr: 0.0010\n",
      "Epoch 5/30\n",
      "11/11 [==============================] - ETA: 0s - loss: 1.4796 - categorical_accuracy: 0.3196\n",
      "Epoch 00005: saving model to model_init_2021-06-1413_31_51.003183/model-00005-1.47956-0.31960-1.44761-0.39062.h5\n",
      "11/11 [==============================] - 28s 3s/step - loss: 1.4796 - categorical_accuracy: 0.3196 - val_loss: 1.4476 - val_categorical_accuracy: 0.3906 - lr: 0.0010\n",
      "Epoch 6/30\n",
      "11/11 [==============================] - ETA: 0s - loss: 1.4217 - categorical_accuracy: 0.3366\n",
      "Epoch 00006: saving model to model_init_2021-06-1413_31_51.003183/model-00006-1.42172-0.33665-1.36371-0.49219.h5\n",
      "11/11 [==============================] - 28s 3s/step - loss: 1.4217 - categorical_accuracy: 0.3366 - val_loss: 1.3637 - val_categorical_accuracy: 0.4922 - lr: 0.0010\n",
      "Epoch 7/30\n",
      "11/11 [==============================] - ETA: 0s - loss: 1.4068 - categorical_accuracy: 0.3608\n",
      "Epoch 00007: saving model to model_init_2021-06-1413_31_51.003183/model-00007-1.40682-0.36080-1.38194-0.46875.h5\n",
      "11/11 [==============================] - 28s 3s/step - loss: 1.4068 - categorical_accuracy: 0.3608 - val_loss: 1.3819 - val_categorical_accuracy: 0.4688 - lr: 0.0010\n",
      "Epoch 8/30\n",
      "11/11 [==============================] - ETA: 0s - loss: 1.3860 - categorical_accuracy: 0.3523\n",
      "Epoch 00008: saving model to model_init_2021-06-1413_31_51.003183/model-00008-1.38596-0.35227-1.30448-0.47656.h5\n",
      "11/11 [==============================] - 27s 2s/step - loss: 1.3860 - categorical_accuracy: 0.3523 - val_loss: 1.3045 - val_categorical_accuracy: 0.4766 - lr: 0.0010\n",
      "Epoch 9/30\n",
      "11/11 [==============================] - ETA: 0s - loss: 1.3566 - categorical_accuracy: 0.3509\n",
      "Epoch 00009: saving model to model_init_2021-06-1413_31_51.003183/model-00009-1.35657-0.35085-1.39704-0.37500.h5\n",
      "11/11 [==============================] - 28s 3s/step - loss: 1.3566 - categorical_accuracy: 0.3509 - val_loss: 1.3970 - val_categorical_accuracy: 0.3750 - lr: 0.0010\n",
      "Epoch 10/30\n",
      "11/11 [==============================] - ETA: 0s - loss: 1.3377 - categorical_accuracy: 0.3750\n",
      "Epoch 00010: saving model to model_init_2021-06-1413_31_51.003183/model-00010-1.33771-0.37500-1.27318-0.48438.h5\n",
      "11/11 [==============================] - 27s 2s/step - loss: 1.3377 - categorical_accuracy: 0.3750 - val_loss: 1.2732 - val_categorical_accuracy: 0.4844 - lr: 0.0010\n",
      "Epoch 11/30\n",
      "11/11 [==============================] - ETA: 0s - loss: 1.3146 - categorical_accuracy: 0.3991\n",
      "Epoch 00011: saving model to model_init_2021-06-1413_31_51.003183/model-00011-1.31456-0.39915-1.31633-0.37500.h5\n",
      "11/11 [==============================] - 27s 2s/step - loss: 1.3146 - categorical_accuracy: 0.3991 - val_loss: 1.3163 - val_categorical_accuracy: 0.3750 - lr: 0.0010\n",
      "Epoch 12/30\n",
      "11/11 [==============================] - ETA: 0s - loss: 1.2333 - categorical_accuracy: 0.4247\n",
      "Epoch 00012: saving model to model_init_2021-06-1413_31_51.003183/model-00012-1.23329-0.42472-1.24252-0.44531.h5\n",
      "11/11 [==============================] - 27s 2s/step - loss: 1.2333 - categorical_accuracy: 0.4247 - val_loss: 1.2425 - val_categorical_accuracy: 0.4453 - lr: 0.0010\n",
      "Epoch 13/30\n",
      "11/11 [==============================] - ETA: 0s - loss: 1.1930 - categorical_accuracy: 0.4545\n",
      "Epoch 00013: saving model to model_init_2021-06-1413_31_51.003183/model-00013-1.19298-0.45455-1.23560-0.48438.h5\n",
      "11/11 [==============================] - 28s 3s/step - loss: 1.1930 - categorical_accuracy: 0.4545 - val_loss: 1.2356 - val_categorical_accuracy: 0.4844 - lr: 0.0010\n",
      "Epoch 14/30\n",
      "11/11 [==============================] - ETA: 0s - loss: 1.1556 - categorical_accuracy: 0.4602\n",
      "Epoch 00014: saving model to model_init_2021-06-1413_31_51.003183/model-00014-1.15560-0.46023-1.31972-0.45312.h5\n",
      "11/11 [==============================] - 28s 3s/step - loss: 1.1556 - categorical_accuracy: 0.4602 - val_loss: 1.3197 - val_categorical_accuracy: 0.4531 - lr: 0.0010\n",
      "Epoch 15/30\n",
      "11/11 [==============================] - ETA: 0s - loss: 1.1582 - categorical_accuracy: 0.4503\n",
      "Epoch 00015: saving model to model_init_2021-06-1413_31_51.003183/model-00015-1.15823-0.45028-1.35654-0.40625.h5\n",
      "11/11 [==============================] - 27s 2s/step - loss: 1.1582 - categorical_accuracy: 0.4503 - val_loss: 1.3565 - val_categorical_accuracy: 0.4062 - lr: 0.0010\n",
      "Epoch 16/30\n",
      "11/11 [==============================] - ETA: 0s - loss: 1.1361 - categorical_accuracy: 0.4503\n",
      "Epoch 00016: saving model to model_init_2021-06-1413_31_51.003183/model-00016-1.13615-0.45028-1.26553-0.43750.h5\n",
      "11/11 [==============================] - 27s 2s/step - loss: 1.1361 - categorical_accuracy: 0.4503 - val_loss: 1.2655 - val_categorical_accuracy: 0.4375 - lr: 5.0000e-04\n",
      "Epoch 17/30\n",
      "11/11 [==============================] - ETA: 0s - loss: 1.0786 - categorical_accuracy: 0.4972\n",
      "Epoch 00017: saving model to model_init_2021-06-1413_31_51.003183/model-00017-1.07862-0.49716-1.18034-0.56250.h5\n",
      "11/11 [==============================] - 27s 2s/step - loss: 1.0786 - categorical_accuracy: 0.4972 - val_loss: 1.1803 - val_categorical_accuracy: 0.5625 - lr: 5.0000e-04\n",
      "Epoch 18/30\n",
      "11/11 [==============================] - ETA: 0s - loss: 1.0707 - categorical_accuracy: 0.5028\n",
      "Epoch 00018: saving model to model_init_2021-06-1413_31_51.003183/model-00018-1.07072-0.50284-1.24566-0.49219.h5\n",
      "11/11 [==============================] - 27s 2s/step - loss: 1.0707 - categorical_accuracy: 0.5028 - val_loss: 1.2457 - val_categorical_accuracy: 0.4922 - lr: 5.0000e-04\n",
      "Epoch 19/30\n",
      "11/11 [==============================] - ETA: 0s - loss: 1.0857 - categorical_accuracy: 0.4886\n",
      "Epoch 00019: saving model to model_init_2021-06-1413_31_51.003183/model-00019-1.08565-0.48864-1.05266-0.57812.h5\n",
      "11/11 [==============================] - 28s 3s/step - loss: 1.0857 - categorical_accuracy: 0.4886 - val_loss: 1.0527 - val_categorical_accuracy: 0.5781 - lr: 5.0000e-04\n",
      "Epoch 20/30\n",
      "11/11 [==============================] - ETA: 0s - loss: 0.9773 - categorical_accuracy: 0.5526\n",
      "Epoch 00020: saving model to model_init_2021-06-1413_31_51.003183/model-00020-0.97729-0.55256-1.26598-0.50000.h5\n",
      "11/11 [==============================] - 28s 3s/step - loss: 0.9773 - categorical_accuracy: 0.5526 - val_loss: 1.2660 - val_categorical_accuracy: 0.5000 - lr: 5.0000e-04\n",
      "Epoch 21/30\n",
      "11/11 [==============================] - ETA: 0s - loss: 1.0247 - categorical_accuracy: 0.5213\n",
      "Epoch 00021: saving model to model_init_2021-06-1413_31_51.003183/model-00021-1.02474-0.52131-1.09501-0.60938.h5\n",
      "11/11 [==============================] - 29s 3s/step - loss: 1.0247 - categorical_accuracy: 0.5213 - val_loss: 1.0950 - val_categorical_accuracy: 0.6094 - lr: 5.0000e-04\n",
      "Epoch 22/30\n",
      "11/11 [==============================] - ETA: 0s - loss: 0.9969 - categorical_accuracy: 0.5611\n",
      "Epoch 00022: saving model to model_init_2021-06-1413_31_51.003183/model-00022-0.99691-0.56108-1.18114-0.57812.h5\n",
      "11/11 [==============================] - 28s 3s/step - loss: 0.9969 - categorical_accuracy: 0.5611 - val_loss: 1.1811 - val_categorical_accuracy: 0.5781 - lr: 2.5000e-04\n",
      "Epoch 23/30\n",
      "11/11 [==============================] - ETA: 0s - loss: 0.9713 - categorical_accuracy: 0.5554\n",
      "Epoch 00023: saving model to model_init_2021-06-1413_31_51.003183/model-00023-0.97129-0.55540-1.17491-0.62500.h5\n",
      "11/11 [==============================] - 28s 3s/step - loss: 0.9713 - categorical_accuracy: 0.5554 - val_loss: 1.1749 - val_categorical_accuracy: 0.6250 - lr: 2.5000e-04\n",
      "Epoch 24/30\n",
      "11/11 [==============================] - ETA: 0s - loss: 0.9687 - categorical_accuracy: 0.5696\n",
      "Epoch 00024: saving model to model_init_2021-06-1413_31_51.003183/model-00024-0.96869-0.56960-1.12289-0.57031.h5\n",
      "11/11 [==============================] - 27s 2s/step - loss: 0.9687 - categorical_accuracy: 0.5696 - val_loss: 1.1229 - val_categorical_accuracy: 0.5703 - lr: 1.2500e-04\n",
      "Epoch 25/30\n",
      "11/11 [==============================] - ETA: 0s - loss: 0.9140 - categorical_accuracy: 0.5781\n",
      "Epoch 00025: saving model to model_init_2021-06-1413_31_51.003183/model-00025-0.91401-0.57812-1.13620-0.59375.h5\n",
      "11/11 [==============================] - 28s 3s/step - loss: 0.9140 - categorical_accuracy: 0.5781 - val_loss: 1.1362 - val_categorical_accuracy: 0.5938 - lr: 1.2500e-04\n",
      "Epoch 26/30\n",
      "11/11 [==============================] - ETA: 0s - loss: 0.9351 - categorical_accuracy: 0.5710\n",
      "Epoch 00026: saving model to model_init_2021-06-1413_31_51.003183/model-00026-0.93514-0.57102-1.20218-0.59375.h5\n",
      "11/11 [==============================] - 28s 3s/step - loss: 0.9351 - categorical_accuracy: 0.5710 - val_loss: 1.2022 - val_categorical_accuracy: 0.5938 - lr: 1.0000e-04\n",
      "Epoch 27/30\n",
      "11/11 [==============================] - ETA: 0s - loss: 0.9445 - categorical_accuracy: 0.5696\n",
      "Epoch 00027: saving model to model_init_2021-06-1413_31_51.003183/model-00027-0.94454-0.56960-1.27639-0.57812.h5\n",
      "11/11 [==============================] - 35s 3s/step - loss: 0.9445 - categorical_accuracy: 0.5696 - val_loss: 1.2764 - val_categorical_accuracy: 0.5781 - lr: 1.0000e-04\n",
      "Epoch 28/30\n",
      "11/11 [==============================] - ETA: 0s - loss: 0.8832 - categorical_accuracy: 0.6094\n",
      "Epoch 00028: saving model to model_init_2021-06-1413_31_51.003183/model-00028-0.88323-0.60938-1.17460-0.63281.h5\n",
      "11/11 [==============================] - 53s 5s/step - loss: 0.8832 - categorical_accuracy: 0.6094 - val_loss: 1.1746 - val_categorical_accuracy: 0.6328 - lr: 1.0000e-04\n",
      "Epoch 29/30\n",
      "11/11 [==============================] - ETA: 0s - loss: 0.9699 - categorical_accuracy: 0.5455\n",
      "Epoch 00029: saving model to model_init_2021-06-1413_31_51.003183/model-00029-0.96987-0.54545-1.19853-0.59375.h5\n",
      "11/11 [==============================] - 69s 6s/step - loss: 0.9699 - categorical_accuracy: 0.5455 - val_loss: 1.1985 - val_categorical_accuracy: 0.5938 - lr: 1.0000e-04\n",
      "Epoch 30/30\n",
      "11/11 [==============================] - ETA: 0s - loss: 0.9013 - categorical_accuracy: 0.5753\n",
      "Epoch 00030: saving model to model_init_2021-06-1413_31_51.003183/model-00030-0.90127-0.57528-1.08997-0.61719.h5\n",
      "11/11 [==============================] - 77s 7s/step - loss: 0.9013 - categorical_accuracy: 0.5753 - val_loss: 1.0900 - val_categorical_accuracy: 0.6172 - lr: 1.0000e-04\n"
     ]
    },
    {
     "data": {
      "text/plain": [
       "<tensorflow.python.keras.callbacks.History at 0x7f4fa8b27a90>"
      ]
     },
     "execution_count": 74,
     "metadata": {},
     "output_type": "execute_result"
    }
   ],
   "source": [
    "model_2.fit(train_generator, steps_per_epoch=steps_per_epoch, epochs=num_epochs, verbose=1, \n",
    "                    callbacks=callbacks_list, validation_data=val_generator, \n",
    "                    validation_steps=validation_steps, class_weight=None, workers=1, initial_epoch=0)"
   ]
  },
  {
   "cell_type": "code",
   "execution_count": null,
   "metadata": {},
   "outputs": [],
   "source": []
  }
 ],
 "metadata": {
  "kernelspec": {
   "display_name": "Python 3",
   "language": "python",
   "name": "python3"
  },
  "language_info": {
   "codemirror_mode": {
    "name": "ipython",
    "version": 3
   },
   "file_extension": ".py",
   "mimetype": "text/x-python",
   "name": "python",
   "nbconvert_exporter": "python",
   "pygments_lexer": "ipython3",
   "version": "3.8.3"
  }
 },
 "nbformat": 4,
 "nbformat_minor": 2
}
